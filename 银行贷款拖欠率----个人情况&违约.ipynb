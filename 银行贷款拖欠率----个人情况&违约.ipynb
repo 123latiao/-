{
 "cells": [
  {
   "cell_type": "code",
   "execution_count": 1,
   "id": "b371d905",
   "metadata": {},
   "outputs": [],
   "source": [
    "import pandas as pd\n",
    "import numpy as np\n",
    "from statsmodels.tsa.arima.model import ARIMA\n",
    "from statsmodels.tsa.stattools import adfuller, acf, pacf\n",
    "from statsmodels.graphics.tsaplots import plot_acf, plot_pacf\n",
    "import matplotlib.pyplot as plt\n",
    "import seaborn as sns"
   ]
  },
  {
   "cell_type": "markdown",
   "id": "181c98c3",
   "metadata": {},
   "source": [
    "数据预处理（空缺值、类型转换）"
   ]
  },
  {
   "cell_type": "code",
   "execution_count": 2,
   "id": "a702c0da",
   "metadata": {},
   "outputs": [],
   "source": [
    "df = pd.read_csv(r\"D:\\data_py\\bankloan_me.csv\")"
   ]
  },
  {
   "cell_type": "code",
   "execution_count": 3,
   "id": "fa9c2202",
   "metadata": {},
   "outputs": [
    {
     "data": {
      "text/html": [
       "<div>\n",
       "<style scoped>\n",
       "    .dataframe tbody tr th:only-of-type {\n",
       "        vertical-align: middle;\n",
       "    }\n",
       "\n",
       "    .dataframe tbody tr th {\n",
       "        vertical-align: top;\n",
       "    }\n",
       "\n",
       "    .dataframe thead th {\n",
       "        text-align: right;\n",
       "    }\n",
       "</style>\n",
       "<table border=\"1\" class=\"dataframe\">\n",
       "  <thead>\n",
       "    <tr style=\"text-align: right;\">\n",
       "      <th></th>\n",
       "      <th>年龄</th>\n",
       "      <th>教育</th>\n",
       "      <th>工龄</th>\n",
       "      <th>收入</th>\n",
       "      <th>负债率</th>\n",
       "      <th>信用卡负债</th>\n",
       "      <th>其他负债</th>\n",
       "      <th>违约</th>\n",
       "      <th>Unnamed: 8</th>\n",
       "      <th>Unnamed: 9</th>\n",
       "      <th>Unnamed: 10</th>\n",
       "    </tr>\n",
       "  </thead>\n",
       "  <tbody>\n",
       "    <tr>\n",
       "      <th>0</th>\n",
       "      <td>41.0</td>\n",
       "      <td>3.0</td>\n",
       "      <td>17.0</td>\n",
       "      <td>176.0</td>\n",
       "      <td>9.3</td>\n",
       "      <td>11.36</td>\n",
       "      <td>5.01</td>\n",
       "      <td>1.0</td>\n",
       "      <td>NaN</td>\n",
       "      <td>NaN</td>\n",
       "      <td>NaN</td>\n",
       "    </tr>\n",
       "    <tr>\n",
       "      <th>1</th>\n",
       "      <td>27.0</td>\n",
       "      <td>1.0</td>\n",
       "      <td>10.0</td>\n",
       "      <td>31.0</td>\n",
       "      <td>17.3</td>\n",
       "      <td>1.36</td>\n",
       "      <td>4.00</td>\n",
       "      <td>0.0</td>\n",
       "      <td>NaN</td>\n",
       "      <td>NaN</td>\n",
       "      <td>NaN</td>\n",
       "    </tr>\n",
       "    <tr>\n",
       "      <th>2</th>\n",
       "      <td>40.0</td>\n",
       "      <td>1.0</td>\n",
       "      <td>15.0</td>\n",
       "      <td>55.0</td>\n",
       "      <td>5.5</td>\n",
       "      <td>0.86</td>\n",
       "      <td>2.17</td>\n",
       "      <td>0.0</td>\n",
       "      <td>NaN</td>\n",
       "      <td>NaN</td>\n",
       "      <td>NaN</td>\n",
       "    </tr>\n",
       "    <tr>\n",
       "      <th>3</th>\n",
       "      <td>41.0</td>\n",
       "      <td>1.0</td>\n",
       "      <td>15.0</td>\n",
       "      <td>120.0</td>\n",
       "      <td>2.9</td>\n",
       "      <td>2.66</td>\n",
       "      <td>0.82</td>\n",
       "      <td>0.0</td>\n",
       "      <td>NaN</td>\n",
       "      <td>NaN</td>\n",
       "      <td>NaN</td>\n",
       "    </tr>\n",
       "    <tr>\n",
       "      <th>4</th>\n",
       "      <td>24.0</td>\n",
       "      <td>2.0</td>\n",
       "      <td>2.0</td>\n",
       "      <td>28.0</td>\n",
       "      <td>17.3</td>\n",
       "      <td>1.79</td>\n",
       "      <td>3.06</td>\n",
       "      <td>1.0</td>\n",
       "      <td>NaN</td>\n",
       "      <td>NaN</td>\n",
       "      <td>NaN</td>\n",
       "    </tr>\n",
       "    <tr>\n",
       "      <th>...</th>\n",
       "      <td>...</td>\n",
       "      <td>...</td>\n",
       "      <td>...</td>\n",
       "      <td>...</td>\n",
       "      <td>...</td>\n",
       "      <td>...</td>\n",
       "      <td>...</td>\n",
       "      <td>...</td>\n",
       "      <td>...</td>\n",
       "      <td>...</td>\n",
       "      <td>...</td>\n",
       "    </tr>\n",
       "    <tr>\n",
       "      <th>845</th>\n",
       "      <td>NaN</td>\n",
       "      <td>NaN</td>\n",
       "      <td>NaN</td>\n",
       "      <td>NaN</td>\n",
       "      <td>NaN</td>\n",
       "      <td>NaN</td>\n",
       "      <td>NaN</td>\n",
       "      <td>NaN</td>\n",
       "      <td>NaN</td>\n",
       "      <td>NaN</td>\n",
       "      <td>NaN</td>\n",
       "    </tr>\n",
       "    <tr>\n",
       "      <th>846</th>\n",
       "      <td>NaN</td>\n",
       "      <td>NaN</td>\n",
       "      <td>NaN</td>\n",
       "      <td>NaN</td>\n",
       "      <td>NaN</td>\n",
       "      <td>NaN</td>\n",
       "      <td>NaN</td>\n",
       "      <td>NaN</td>\n",
       "      <td>NaN</td>\n",
       "      <td>NaN</td>\n",
       "      <td>NaN</td>\n",
       "    </tr>\n",
       "    <tr>\n",
       "      <th>847</th>\n",
       "      <td>NaN</td>\n",
       "      <td>NaN</td>\n",
       "      <td>NaN</td>\n",
       "      <td>NaN</td>\n",
       "      <td>NaN</td>\n",
       "      <td>NaN</td>\n",
       "      <td>NaN</td>\n",
       "      <td>NaN</td>\n",
       "      <td>NaN</td>\n",
       "      <td>NaN</td>\n",
       "      <td>NaN</td>\n",
       "    </tr>\n",
       "    <tr>\n",
       "      <th>848</th>\n",
       "      <td>NaN</td>\n",
       "      <td>NaN</td>\n",
       "      <td>NaN</td>\n",
       "      <td>NaN</td>\n",
       "      <td>NaN</td>\n",
       "      <td>NaN</td>\n",
       "      <td>NaN</td>\n",
       "      <td>NaN</td>\n",
       "      <td>NaN</td>\n",
       "      <td>NaN</td>\n",
       "      <td>NaN</td>\n",
       "    </tr>\n",
       "    <tr>\n",
       "      <th>849</th>\n",
       "      <td>NaN</td>\n",
       "      <td>NaN</td>\n",
       "      <td>NaN</td>\n",
       "      <td>NaN</td>\n",
       "      <td>NaN</td>\n",
       "      <td>NaN</td>\n",
       "      <td>NaN</td>\n",
       "      <td>NaN</td>\n",
       "      <td>NaN</td>\n",
       "      <td>NaN</td>\n",
       "      <td>NaN</td>\n",
       "    </tr>\n",
       "  </tbody>\n",
       "</table>\n",
       "<p>850 rows × 11 columns</p>\n",
       "</div>"
      ],
      "text/plain": [
       "       年龄   教育    工龄     收入   负债率  信用卡负债  其他负债   违约  Unnamed: 8  Unnamed: 9  \\\n",
       "0    41.0  3.0  17.0  176.0   9.3  11.36  5.01  1.0         NaN         NaN   \n",
       "1    27.0  1.0  10.0   31.0  17.3   1.36  4.00  0.0         NaN         NaN   \n",
       "2    40.0  1.0  15.0   55.0   5.5   0.86  2.17  0.0         NaN         NaN   \n",
       "3    41.0  1.0  15.0  120.0   2.9   2.66  0.82  0.0         NaN         NaN   \n",
       "4    24.0  2.0   2.0   28.0  17.3   1.79  3.06  1.0         NaN         NaN   \n",
       "..    ...  ...   ...    ...   ...    ...   ...  ...         ...         ...   \n",
       "845   NaN  NaN   NaN    NaN   NaN    NaN   NaN  NaN         NaN         NaN   \n",
       "846   NaN  NaN   NaN    NaN   NaN    NaN   NaN  NaN         NaN         NaN   \n",
       "847   NaN  NaN   NaN    NaN   NaN    NaN   NaN  NaN         NaN         NaN   \n",
       "848   NaN  NaN   NaN    NaN   NaN    NaN   NaN  NaN         NaN         NaN   \n",
       "849   NaN  NaN   NaN    NaN   NaN    NaN   NaN  NaN         NaN         NaN   \n",
       "\n",
       "     Unnamed: 10  \n",
       "0            NaN  \n",
       "1            NaN  \n",
       "2            NaN  \n",
       "3            NaN  \n",
       "4            NaN  \n",
       "..           ...  \n",
       "845          NaN  \n",
       "846          NaN  \n",
       "847          NaN  \n",
       "848          NaN  \n",
       "849          NaN  \n",
       "\n",
       "[850 rows x 11 columns]"
      ]
     },
     "execution_count": 3,
     "metadata": {},
     "output_type": "execute_result"
    }
   ],
   "source": [
    "df"
   ]
  },
  {
   "cell_type": "code",
   "execution_count": 4,
   "id": "efe39eae",
   "metadata": {},
   "outputs": [],
   "source": [
    "df = df.drop(columns=[ \"Unnamed: 8\", \"Unnamed: 9\", \"Unnamed: 10\"])"
   ]
  },
  {
   "cell_type": "code",
   "execution_count": 5,
   "id": "9f8e25b7",
   "metadata": {},
   "outputs": [
    {
     "data": {
      "text/html": [
       "<div>\n",
       "<style scoped>\n",
       "    .dataframe tbody tr th:only-of-type {\n",
       "        vertical-align: middle;\n",
       "    }\n",
       "\n",
       "    .dataframe tbody tr th {\n",
       "        vertical-align: top;\n",
       "    }\n",
       "\n",
       "    .dataframe thead th {\n",
       "        text-align: right;\n",
       "    }\n",
       "</style>\n",
       "<table border=\"1\" class=\"dataframe\">\n",
       "  <thead>\n",
       "    <tr style=\"text-align: right;\">\n",
       "      <th></th>\n",
       "      <th>年龄</th>\n",
       "      <th>教育</th>\n",
       "      <th>工龄</th>\n",
       "      <th>收入</th>\n",
       "      <th>负债率</th>\n",
       "      <th>信用卡负债</th>\n",
       "      <th>其他负债</th>\n",
       "      <th>违约</th>\n",
       "    </tr>\n",
       "  </thead>\n",
       "  <tbody>\n",
       "    <tr>\n",
       "      <th>0</th>\n",
       "      <td>41.0</td>\n",
       "      <td>3.0</td>\n",
       "      <td>17.0</td>\n",
       "      <td>176.0</td>\n",
       "      <td>9.3</td>\n",
       "      <td>11.36</td>\n",
       "      <td>5.01</td>\n",
       "      <td>1.0</td>\n",
       "    </tr>\n",
       "    <tr>\n",
       "      <th>1</th>\n",
       "      <td>27.0</td>\n",
       "      <td>1.0</td>\n",
       "      <td>10.0</td>\n",
       "      <td>31.0</td>\n",
       "      <td>17.3</td>\n",
       "      <td>1.36</td>\n",
       "      <td>4.00</td>\n",
       "      <td>0.0</td>\n",
       "    </tr>\n",
       "    <tr>\n",
       "      <th>2</th>\n",
       "      <td>40.0</td>\n",
       "      <td>1.0</td>\n",
       "      <td>15.0</td>\n",
       "      <td>55.0</td>\n",
       "      <td>5.5</td>\n",
       "      <td>0.86</td>\n",
       "      <td>2.17</td>\n",
       "      <td>0.0</td>\n",
       "    </tr>\n",
       "    <tr>\n",
       "      <th>3</th>\n",
       "      <td>41.0</td>\n",
       "      <td>1.0</td>\n",
       "      <td>15.0</td>\n",
       "      <td>120.0</td>\n",
       "      <td>2.9</td>\n",
       "      <td>2.66</td>\n",
       "      <td>0.82</td>\n",
       "      <td>0.0</td>\n",
       "    </tr>\n",
       "    <tr>\n",
       "      <th>4</th>\n",
       "      <td>24.0</td>\n",
       "      <td>2.0</td>\n",
       "      <td>2.0</td>\n",
       "      <td>28.0</td>\n",
       "      <td>17.3</td>\n",
       "      <td>1.79</td>\n",
       "      <td>3.06</td>\n",
       "      <td>1.0</td>\n",
       "    </tr>\n",
       "    <tr>\n",
       "      <th>...</th>\n",
       "      <td>...</td>\n",
       "      <td>...</td>\n",
       "      <td>...</td>\n",
       "      <td>...</td>\n",
       "      <td>...</td>\n",
       "      <td>...</td>\n",
       "      <td>...</td>\n",
       "      <td>...</td>\n",
       "    </tr>\n",
       "    <tr>\n",
       "      <th>845</th>\n",
       "      <td>NaN</td>\n",
       "      <td>NaN</td>\n",
       "      <td>NaN</td>\n",
       "      <td>NaN</td>\n",
       "      <td>NaN</td>\n",
       "      <td>NaN</td>\n",
       "      <td>NaN</td>\n",
       "      <td>NaN</td>\n",
       "    </tr>\n",
       "    <tr>\n",
       "      <th>846</th>\n",
       "      <td>NaN</td>\n",
       "      <td>NaN</td>\n",
       "      <td>NaN</td>\n",
       "      <td>NaN</td>\n",
       "      <td>NaN</td>\n",
       "      <td>NaN</td>\n",
       "      <td>NaN</td>\n",
       "      <td>NaN</td>\n",
       "    </tr>\n",
       "    <tr>\n",
       "      <th>847</th>\n",
       "      <td>NaN</td>\n",
       "      <td>NaN</td>\n",
       "      <td>NaN</td>\n",
       "      <td>NaN</td>\n",
       "      <td>NaN</td>\n",
       "      <td>NaN</td>\n",
       "      <td>NaN</td>\n",
       "      <td>NaN</td>\n",
       "    </tr>\n",
       "    <tr>\n",
       "      <th>848</th>\n",
       "      <td>NaN</td>\n",
       "      <td>NaN</td>\n",
       "      <td>NaN</td>\n",
       "      <td>NaN</td>\n",
       "      <td>NaN</td>\n",
       "      <td>NaN</td>\n",
       "      <td>NaN</td>\n",
       "      <td>NaN</td>\n",
       "    </tr>\n",
       "    <tr>\n",
       "      <th>849</th>\n",
       "      <td>NaN</td>\n",
       "      <td>NaN</td>\n",
       "      <td>NaN</td>\n",
       "      <td>NaN</td>\n",
       "      <td>NaN</td>\n",
       "      <td>NaN</td>\n",
       "      <td>NaN</td>\n",
       "      <td>NaN</td>\n",
       "    </tr>\n",
       "  </tbody>\n",
       "</table>\n",
       "<p>850 rows × 8 columns</p>\n",
       "</div>"
      ],
      "text/plain": [
       "       年龄   教育    工龄     收入   负债率  信用卡负债  其他负债   违约\n",
       "0    41.0  3.0  17.0  176.0   9.3  11.36  5.01  1.0\n",
       "1    27.0  1.0  10.0   31.0  17.3   1.36  4.00  0.0\n",
       "2    40.0  1.0  15.0   55.0   5.5   0.86  2.17  0.0\n",
       "3    41.0  1.0  15.0  120.0   2.9   2.66  0.82  0.0\n",
       "4    24.0  2.0   2.0   28.0  17.3   1.79  3.06  1.0\n",
       "..    ...  ...   ...    ...   ...    ...   ...  ...\n",
       "845   NaN  NaN   NaN    NaN   NaN    NaN   NaN  NaN\n",
       "846   NaN  NaN   NaN    NaN   NaN    NaN   NaN  NaN\n",
       "847   NaN  NaN   NaN    NaN   NaN    NaN   NaN  NaN\n",
       "848   NaN  NaN   NaN    NaN   NaN    NaN   NaN  NaN\n",
       "849   NaN  NaN   NaN    NaN   NaN    NaN   NaN  NaN\n",
       "\n",
       "[850 rows x 8 columns]"
      ]
     },
     "execution_count": 5,
     "metadata": {},
     "output_type": "execute_result"
    }
   ],
   "source": [
    "df"
   ]
  },
  {
   "cell_type": "code",
   "execution_count": 6,
   "id": "37bd35ac",
   "metadata": {},
   "outputs": [],
   "source": [
    "df = df.dropna()  # 剔除包含NA值的行"
   ]
  },
  {
   "cell_type": "code",
   "execution_count": 7,
   "id": "10037a2f",
   "metadata": {
    "scrolled": true
   },
   "outputs": [
    {
     "data": {
      "text/html": [
       "<div>\n",
       "<style scoped>\n",
       "    .dataframe tbody tr th:only-of-type {\n",
       "        vertical-align: middle;\n",
       "    }\n",
       "\n",
       "    .dataframe tbody tr th {\n",
       "        vertical-align: top;\n",
       "    }\n",
       "\n",
       "    .dataframe thead th {\n",
       "        text-align: right;\n",
       "    }\n",
       "</style>\n",
       "<table border=\"1\" class=\"dataframe\">\n",
       "  <thead>\n",
       "    <tr style=\"text-align: right;\">\n",
       "      <th></th>\n",
       "      <th>年龄</th>\n",
       "      <th>教育</th>\n",
       "      <th>工龄</th>\n",
       "      <th>收入</th>\n",
       "      <th>负债率</th>\n",
       "      <th>信用卡负债</th>\n",
       "      <th>其他负债</th>\n",
       "      <th>违约</th>\n",
       "    </tr>\n",
       "  </thead>\n",
       "  <tbody>\n",
       "    <tr>\n",
       "      <th>0</th>\n",
       "      <td>41.0</td>\n",
       "      <td>3.0</td>\n",
       "      <td>17.0</td>\n",
       "      <td>176.0</td>\n",
       "      <td>9.3</td>\n",
       "      <td>11.36</td>\n",
       "      <td>5.01</td>\n",
       "      <td>1.0</td>\n",
       "    </tr>\n",
       "    <tr>\n",
       "      <th>1</th>\n",
       "      <td>27.0</td>\n",
       "      <td>1.0</td>\n",
       "      <td>10.0</td>\n",
       "      <td>31.0</td>\n",
       "      <td>17.3</td>\n",
       "      <td>1.36</td>\n",
       "      <td>4.00</td>\n",
       "      <td>0.0</td>\n",
       "    </tr>\n",
       "    <tr>\n",
       "      <th>2</th>\n",
       "      <td>40.0</td>\n",
       "      <td>1.0</td>\n",
       "      <td>15.0</td>\n",
       "      <td>55.0</td>\n",
       "      <td>5.5</td>\n",
       "      <td>0.86</td>\n",
       "      <td>2.17</td>\n",
       "      <td>0.0</td>\n",
       "    </tr>\n",
       "    <tr>\n",
       "      <th>3</th>\n",
       "      <td>41.0</td>\n",
       "      <td>1.0</td>\n",
       "      <td>15.0</td>\n",
       "      <td>120.0</td>\n",
       "      <td>2.9</td>\n",
       "      <td>2.66</td>\n",
       "      <td>0.82</td>\n",
       "      <td>0.0</td>\n",
       "    </tr>\n",
       "    <tr>\n",
       "      <th>4</th>\n",
       "      <td>24.0</td>\n",
       "      <td>2.0</td>\n",
       "      <td>2.0</td>\n",
       "      <td>28.0</td>\n",
       "      <td>17.3</td>\n",
       "      <td>1.79</td>\n",
       "      <td>3.06</td>\n",
       "      <td>1.0</td>\n",
       "    </tr>\n",
       "    <tr>\n",
       "      <th>...</th>\n",
       "      <td>...</td>\n",
       "      <td>...</td>\n",
       "      <td>...</td>\n",
       "      <td>...</td>\n",
       "      <td>...</td>\n",
       "      <td>...</td>\n",
       "      <td>...</td>\n",
       "      <td>...</td>\n",
       "    </tr>\n",
       "    <tr>\n",
       "      <th>695</th>\n",
       "      <td>36.0</td>\n",
       "      <td>2.0</td>\n",
       "      <td>6.0</td>\n",
       "      <td>27.0</td>\n",
       "      <td>4.6</td>\n",
       "      <td>0.26</td>\n",
       "      <td>0.98</td>\n",
       "      <td>1.0</td>\n",
       "    </tr>\n",
       "    <tr>\n",
       "      <th>696</th>\n",
       "      <td>29.0</td>\n",
       "      <td>2.0</td>\n",
       "      <td>6.0</td>\n",
       "      <td>21.0</td>\n",
       "      <td>11.5</td>\n",
       "      <td>0.37</td>\n",
       "      <td>2.05</td>\n",
       "      <td>0.0</td>\n",
       "    </tr>\n",
       "    <tr>\n",
       "      <th>697</th>\n",
       "      <td>33.0</td>\n",
       "      <td>1.0</td>\n",
       "      <td>15.0</td>\n",
       "      <td>32.0</td>\n",
       "      <td>7.6</td>\n",
       "      <td>0.49</td>\n",
       "      <td>1.94</td>\n",
       "      <td>0.0</td>\n",
       "    </tr>\n",
       "    <tr>\n",
       "      <th>698</th>\n",
       "      <td>45.0</td>\n",
       "      <td>1.0</td>\n",
       "      <td>19.0</td>\n",
       "      <td>77.0</td>\n",
       "      <td>8.4</td>\n",
       "      <td>2.30</td>\n",
       "      <td>4.17</td>\n",
       "      <td>0.0</td>\n",
       "    </tr>\n",
       "    <tr>\n",
       "      <th>699</th>\n",
       "      <td>37.0</td>\n",
       "      <td>1.0</td>\n",
       "      <td>12.0</td>\n",
       "      <td>44.0</td>\n",
       "      <td>14.7</td>\n",
       "      <td>2.99</td>\n",
       "      <td>3.47</td>\n",
       "      <td>0.0</td>\n",
       "    </tr>\n",
       "  </tbody>\n",
       "</table>\n",
       "<p>700 rows × 8 columns</p>\n",
       "</div>"
      ],
      "text/plain": [
       "       年龄   教育    工龄     收入   负债率  信用卡负债  其他负债   违约\n",
       "0    41.0  3.0  17.0  176.0   9.3  11.36  5.01  1.0\n",
       "1    27.0  1.0  10.0   31.0  17.3   1.36  4.00  0.0\n",
       "2    40.0  1.0  15.0   55.0   5.5   0.86  2.17  0.0\n",
       "3    41.0  1.0  15.0  120.0   2.9   2.66  0.82  0.0\n",
       "4    24.0  2.0   2.0   28.0  17.3   1.79  3.06  1.0\n",
       "..    ...  ...   ...    ...   ...    ...   ...  ...\n",
       "695  36.0  2.0   6.0   27.0   4.6   0.26  0.98  1.0\n",
       "696  29.0  2.0   6.0   21.0  11.5   0.37  2.05  0.0\n",
       "697  33.0  1.0  15.0   32.0   7.6   0.49  1.94  0.0\n",
       "698  45.0  1.0  19.0   77.0   8.4   2.30  4.17  0.0\n",
       "699  37.0  1.0  12.0   44.0  14.7   2.99  3.47  0.0\n",
       "\n",
       "[700 rows x 8 columns]"
      ]
     },
     "execution_count": 7,
     "metadata": {},
     "output_type": "execute_result"
    }
   ],
   "source": [
    "df"
   ]
  },
  {
   "cell_type": "code",
   "execution_count": 8,
   "id": "42006323",
   "metadata": {},
   "outputs": [],
   "source": [
    "# 剔除重复值\n",
    "df = df.drop_duplicates(subset=[\"年龄\", \"教育\", \"工龄\", '收入', '负债率', '信用卡负债',  '违约'], keep=\"first\")"
   ]
  },
  {
   "cell_type": "markdown",
   "id": "c7eec3ee",
   "metadata": {},
   "source": [
    "年龄、教育、工龄、收入、负债率等变量都是数字型，但它们的类型可能不一定都是float。可能会存在整数型、布尔型、字符串型等不同类型的数据，因此需要进行类型转换，以确保数据的一致性和准确性。"
   ]
  },
  {
   "cell_type": "code",
   "execution_count": 9,
   "id": "230a8921",
   "metadata": {
    "scrolled": true
   },
   "outputs": [],
   "source": [
    "cols = ['年龄', '教育', '工龄', '收入', '负债率', '信用卡负债', '其他负债', '违约']\n",
    "df[cols] = df[cols].astype(float)"
   ]
  },
  {
   "cell_type": "code",
   "execution_count": 10,
   "id": "c278188f",
   "metadata": {
    "scrolled": true
   },
   "outputs": [
    {
     "data": {
      "text/html": [
       "<div>\n",
       "<style scoped>\n",
       "    .dataframe tbody tr th:only-of-type {\n",
       "        vertical-align: middle;\n",
       "    }\n",
       "\n",
       "    .dataframe tbody tr th {\n",
       "        vertical-align: top;\n",
       "    }\n",
       "\n",
       "    .dataframe thead th {\n",
       "        text-align: right;\n",
       "    }\n",
       "</style>\n",
       "<table border=\"1\" class=\"dataframe\">\n",
       "  <thead>\n",
       "    <tr style=\"text-align: right;\">\n",
       "      <th></th>\n",
       "      <th>年龄</th>\n",
       "      <th>教育</th>\n",
       "      <th>工龄</th>\n",
       "      <th>收入</th>\n",
       "      <th>负债率</th>\n",
       "      <th>信用卡负债</th>\n",
       "      <th>其他负债</th>\n",
       "      <th>违约</th>\n",
       "    </tr>\n",
       "  </thead>\n",
       "  <tbody>\n",
       "    <tr>\n",
       "      <th>count</th>\n",
       "      <td>700.000000</td>\n",
       "      <td>700.000000</td>\n",
       "      <td>700.000000</td>\n",
       "      <td>700.000000</td>\n",
       "      <td>700.000000</td>\n",
       "      <td>700.000000</td>\n",
       "      <td>700.000000</td>\n",
       "      <td>700.000000</td>\n",
       "    </tr>\n",
       "    <tr>\n",
       "      <th>mean</th>\n",
       "      <td>34.860000</td>\n",
       "      <td>1.722857</td>\n",
       "      <td>8.388571</td>\n",
       "      <td>45.601429</td>\n",
       "      <td>10.260571</td>\n",
       "      <td>1.553457</td>\n",
       "      <td>3.058229</td>\n",
       "      <td>0.261429</td>\n",
       "    </tr>\n",
       "    <tr>\n",
       "      <th>std</th>\n",
       "      <td>7.997342</td>\n",
       "      <td>0.928206</td>\n",
       "      <td>6.658039</td>\n",
       "      <td>36.814226</td>\n",
       "      <td>6.827234</td>\n",
       "      <td>2.117209</td>\n",
       "      <td>3.287524</td>\n",
       "      <td>0.439727</td>\n",
       "    </tr>\n",
       "    <tr>\n",
       "      <th>min</th>\n",
       "      <td>20.000000</td>\n",
       "      <td>1.000000</td>\n",
       "      <td>0.000000</td>\n",
       "      <td>14.000000</td>\n",
       "      <td>0.400000</td>\n",
       "      <td>0.010000</td>\n",
       "      <td>0.050000</td>\n",
       "      <td>0.000000</td>\n",
       "    </tr>\n",
       "    <tr>\n",
       "      <th>25%</th>\n",
       "      <td>29.000000</td>\n",
       "      <td>1.000000</td>\n",
       "      <td>3.000000</td>\n",
       "      <td>24.000000</td>\n",
       "      <td>5.000000</td>\n",
       "      <td>0.370000</td>\n",
       "      <td>1.047500</td>\n",
       "      <td>0.000000</td>\n",
       "    </tr>\n",
       "    <tr>\n",
       "      <th>50%</th>\n",
       "      <td>34.000000</td>\n",
       "      <td>1.000000</td>\n",
       "      <td>7.000000</td>\n",
       "      <td>34.000000</td>\n",
       "      <td>8.600000</td>\n",
       "      <td>0.855000</td>\n",
       "      <td>1.985000</td>\n",
       "      <td>0.000000</td>\n",
       "    </tr>\n",
       "    <tr>\n",
       "      <th>75%</th>\n",
       "      <td>40.000000</td>\n",
       "      <td>2.000000</td>\n",
       "      <td>12.000000</td>\n",
       "      <td>55.000000</td>\n",
       "      <td>14.125000</td>\n",
       "      <td>1.905000</td>\n",
       "      <td>3.927500</td>\n",
       "      <td>1.000000</td>\n",
       "    </tr>\n",
       "    <tr>\n",
       "      <th>max</th>\n",
       "      <td>56.000000</td>\n",
       "      <td>5.000000</td>\n",
       "      <td>31.000000</td>\n",
       "      <td>446.000000</td>\n",
       "      <td>41.300000</td>\n",
       "      <td>20.560000</td>\n",
       "      <td>27.030000</td>\n",
       "      <td>1.000000</td>\n",
       "    </tr>\n",
       "  </tbody>\n",
       "</table>\n",
       "</div>"
      ],
      "text/plain": [
       "               年龄          教育          工龄          收入         负债率       信用卡负债  \\\n",
       "count  700.000000  700.000000  700.000000  700.000000  700.000000  700.000000   \n",
       "mean    34.860000    1.722857    8.388571   45.601429   10.260571    1.553457   \n",
       "std      7.997342    0.928206    6.658039   36.814226    6.827234    2.117209   \n",
       "min     20.000000    1.000000    0.000000   14.000000    0.400000    0.010000   \n",
       "25%     29.000000    1.000000    3.000000   24.000000    5.000000    0.370000   \n",
       "50%     34.000000    1.000000    7.000000   34.000000    8.600000    0.855000   \n",
       "75%     40.000000    2.000000   12.000000   55.000000   14.125000    1.905000   \n",
       "max     56.000000    5.000000   31.000000  446.000000   41.300000   20.560000   \n",
       "\n",
       "             其他负债          违约  \n",
       "count  700.000000  700.000000  \n",
       "mean     3.058229    0.261429  \n",
       "std      3.287524    0.439727  \n",
       "min      0.050000    0.000000  \n",
       "25%      1.047500    0.000000  \n",
       "50%      1.985000    0.000000  \n",
       "75%      3.927500    1.000000  \n",
       "max     27.030000    1.000000  "
      ]
     },
     "execution_count": 10,
     "metadata": {},
     "output_type": "execute_result"
    }
   ],
   "source": [
    "df.describe()"
   ]
  },
  {
   "cell_type": "markdown",
   "id": "7acd1533",
   "metadata": {},
   "source": [
    "统计结果：\n",
    "1.样本人数为700人。\n",
    "**************************\n",
    "自变量：贷款人个人信息：\n",
    "2.平均年龄为34.86岁，标准差为7.99岁，最小值为20岁，最大值为56岁，几乎都处于劳动年龄范围内；\n",
    "3.教育程度的平均值为1.72，标准差为0.93，表示大多数样本被调查者受过高中教育。\n",
    "4.工龄的平均值为8.39年，标准差为6.66年，最小值为0年，最大值为31年。\n",
    "************************\n",
    "自变量：贷款人经济状况：\n",
    "5.收入的平均值为45.60千元，标准差为36.81千元，最小值为14千元，最大值为446千元。\n",
    "6.负债率的平均值为10.26%，标准差为6.83%，最小值为0.4%，最大值为41.3%。\n",
    "7.信用卡负债的平均值为1.55千元，标准差为2.12千元，最小值为0.01千元，最大值为20.56千元。\n",
    "******************************\n",
    "因变量：\n",
    "违约指标的平均值为0.26，标准差为0.44，最小值为0，最大值为1。\n",
    "************************\n",
    "重点分析标准差：\n",
    "1.年龄和工龄相对较为分散：年龄和工作年限的标准差分别为7.997342和6.658039，说明被调查者的年龄和工龄有较大的差异。年龄和工作年限可能会影响拖欠行为。\n",
    "\n",
    "2.收入的波动性很大：收入的标准差为36.814226，说明被调查者的收入差异非常大，有些人收入很高，而有些人收入很低。这表明收入是一个重要的指标，与违约行为可能存在着某种关系。\n",
    "\n",
    "3.负债率、信用卡负债和其他负债的波动性适中：三个负债指标的标准差分别为6.827234、2.117209和3.287524，说明这些指标在样本中的分布较为均匀，整体变化范围不是特别大，因此这些指标都是比较重要的财务状况指标。\n"
   ]
  },
  {
   "cell_type": "markdown",
   "id": "6c428a48",
   "metadata": {},
   "source": [
    "可视化分析"
   ]
  },
  {
   "cell_type": "code",
   "execution_count": 11,
   "id": "6525df15",
   "metadata": {},
   "outputs": [
    {
     "data": {
      "image/png": "[encoded data removed]",
      "text/plain": [
       "<Figure size 640x480 with 1 Axes>"
      ]
     },
     "metadata": {},
     "output_type": "display_data"
    }
   ],
   "source": [
    "# 绘制箱线图\n",
    "plt.rcParams['font.sans-serif'] = ['SimHei']  # 设置字体为黑体\n",
    "sns.boxplot(data=df[['年龄','教育','工龄']])\n",
    "plt.show()"
   ]
  },
  {
   "cell_type": "markdown",
   "id": "244707d1",
   "metadata": {},
   "source": [
    "箱线图：年龄值大部分在35岁左右，教育程度在1~2左右，工龄大部分8~9左右，和之前描述统计结果一致。通过图中可以更加直观的发现年龄和工龄的差距较大，并且教育和工龄都有异常值。\n",
    "因此接下来考虑是否去除这些异常值。\n",
    "通过计算教育数据的四分位距（IQR）来确定异常值的上下限。其中四分位距是将教育数据按大小排序并将其分为四个等份，然后计算第一和第三四分位数。上下限被定义为 Q3 + 1.5 * IQR 和 Q1 - 1.5 * IQR，其中Q1和Q3分别为教育数据的25％和75％分位数。异常值是指低于下限或高于上限的任何值。\n",
    "最后统计结果43个。"
   ]
  },
  {
   "cell_type": "code",
   "execution_count": 12,
   "id": "c43f864b",
   "metadata": {},
   "outputs": [
    {
     "name": "stdout",
     "output_type": "stream",
     "text": [
      "教育的异常值：\n",
      "       年龄   教育    工龄     收入   负债率  信用卡负债   其他负债   违约\n",
      "25   25.0  4.0   0.0   32.0  17.6   2.14   3.49  0.0\n",
      "73   43.0  4.0   1.0   26.0  10.6   1.52   1.24  0.0\n",
      "83   35.0  4.0   4.0   29.0  11.0   1.84   1.35  0.0\n",
      "122  34.0  4.0   6.0   27.0  35.3   1.98   7.55  1.0\n",
      "130  26.0  4.0   1.0   27.0   2.9   0.31   0.47  0.0\n",
      "146  28.0  4.0   1.0   26.0  12.4   0.38   2.85  0.0\n",
      "147  30.0  4.0   2.0   25.0  10.0   1.77   0.73  0.0\n",
      "168  41.0  4.0  14.0   44.0   1.7   0.35   0.39  0.0\n",
      "184  28.0  4.0   0.0   29.0  24.2   1.42   5.59  0.0\n",
      "197  33.0  4.0   9.0   28.0   4.3   0.38   0.83  0.0\n",
      "202  48.0  4.0   3.0   45.0   9.8   0.97   3.44  0.0\n",
      "219  27.0  4.0   0.0   70.0   8.0   1.62   3.98  1.0\n",
      "227  40.0  4.0   5.0   75.0   1.9   0.88   0.54  0.0\n",
      "291  33.0  4.0   9.0   32.0   5.5   0.50   1.26  0.0\n",
      "314  31.0  4.0   1.0   29.0  11.1   1.07   2.15  0.0\n",
      "317  23.0  4.0   0.0   23.0   6.7   0.47   1.07  0.0\n",
      "332  28.0  4.0   2.0   41.0   2.5   0.46   0.57  1.0\n",
      "333  28.0  4.0   0.0   38.0  10.4   0.64   3.32  0.0\n",
      "366  36.0  5.0   5.0   20.0   8.1   0.73   0.89  0.0\n",
      "376  34.0  4.0   7.0   40.0   6.4   0.95   1.61  0.0\n",
      "384  52.0  5.0   9.0   70.0   9.4   1.33   5.25  1.0\n",
      "387  46.0  5.0  15.0  126.0   3.1   0.48   3.43  0.0\n",
      "393  53.0  4.0   5.0   78.0  17.3   6.94   6.56  1.0\n",
      "413  25.0  4.0   0.0   24.0  12.1   1.60   1.31  1.0\n",
      "424  23.0  4.0   0.0   32.0  18.4   0.82   5.07  1.0\n",
      "425  36.0  4.0   8.0   32.0   1.6   0.02   0.49  0.0\n",
      "444  43.0  4.0  18.0  446.0   6.5  16.03  12.96  1.0\n",
      "454  37.0  4.0   1.0   33.0  16.1   2.69   2.62  1.0\n",
      "456  37.0  5.0   9.0  177.0   5.9   0.89   9.56  0.0\n",
      "471  24.0  4.0   0.0   29.0   6.6   0.59   1.32  1.0\n",
      "486  27.0  4.0   2.0   23.0   5.7   0.32   0.99  1.0\n",
      "502  42.0  5.0   6.0  190.0   7.8   3.16  11.66  0.0\n",
      "547  37.0  4.0  10.0  123.0  17.3   3.02  18.26  0.0\n",
      "557  52.0  4.0  13.0  234.0   7.7   7.39  10.63  0.0\n",
      "565  48.0  4.0  14.0   59.0  16.5   4.94   4.80  1.0\n",
      "570  27.0  4.0   0.0   25.0  12.7   1.42   1.76  1.0\n",
      "584  25.0  4.0   0.0   18.0  33.4   2.80   3.21  1.0\n",
      "592  30.0  4.0   7.0   30.0  15.7   0.26   4.45  0.0\n",
      "596  25.0  4.0   1.0   34.0   8.5   0.13   2.76  1.0\n",
      "603  41.0  4.0   9.0   47.0   5.0   0.44   1.91  0.0\n",
      "625  42.0  4.0  15.0  186.0   3.6   2.40   4.29  0.0\n",
      "630  53.0  4.0   7.0   61.0   7.9   1.87   2.94  0.0\n",
      "682  36.0  4.0   1.0   30.0  11.5   0.32   3.13  0.0\n"
     ]
    }
   ],
   "source": [
    "# 计算教育的异常值\n",
    "edu_Q1 = df['教育'].quantile(q=0.25)\n",
    "edu_Q3 = df['教育'].quantile(q=0.75)\n",
    "edu_IQR = edu_Q3 - edu_Q1\n",
    "edu_upbound = edu_Q3 + 1.5 * edu_IQR\n",
    "edu_downbound = edu_Q1 - 1.5 * edu_IQR\n",
    "edu_outliers = df[(df['教育'] < edu_downbound) | (df['教育'] > edu_upbound)]\n",
    "print(\"教育的异常值：\")\n",
    "print(edu_outliers)"
   ]
  },
  {
   "cell_type": "code",
   "execution_count": 13,
   "id": "ea67d8c7",
   "metadata": {},
   "outputs": [
    {
     "name": "stdout",
     "output_type": "stream",
     "text": [
      "教育的异常值数量： 43\n"
     ]
    }
   ],
   "source": [
    "edu_outliers_count = edu_outliers.shape[0]  # 使用shape属性获取行数，即异常值的数量\n",
    "print(\"教育的异常值数量：\", edu_outliers_count)"
   ]
  },
  {
   "cell_type": "code",
   "execution_count": 14,
   "id": "246ee269",
   "metadata": {},
   "outputs": [],
   "source": [
    "#异常值比例很小（如小于5%），则可以考虑保留；如果异常值比例较大（如大于10%），则可能会影响结果的准确性\n",
    "#但是，这里教育编码是：1：中学以下，2：高中，3：本科，4：研究生，5：博士，所以属于罕见例子，不做处理"
   ]
  },
  {
   "cell_type": "code",
   "execution_count": 15,
   "id": "a8a28313",
   "metadata": {},
   "outputs": [
    {
     "name": "stdout",
     "output_type": "stream",
     "text": [
      "工龄的异常值：\n",
      "       年龄   教育    工龄     收入   负债率  信用卡负债   其他负债   违约\n",
      "300  47.0  1.0  29.0  129.0  25.3  20.56  12.08  1.0\n",
      "528  51.0  2.0  31.0  249.0   7.8   4.27  15.15  0.0\n",
      "622  48.0  2.0  30.0  148.0   7.2   3.97   6.68  0.0\n",
      "632  47.0  1.0  31.0  136.0  23.1  14.23  17.18  1.0\n",
      "675  48.0  1.0  30.0  101.0   6.4   1.87   4.59  0.0\n",
      "691  47.0  1.0  31.0  253.0   7.2   9.31   8.91  0.0\n"
     ]
    }
   ],
   "source": [
    "# 计算工龄的异常值\n",
    "work_mean = df['工龄'].mean()\n",
    "work_std = df['工龄'].std()\n",
    "work_upbound = work_mean + 3 * work_std\n",
    "work_downbound = work_mean - 3 * work_std\n",
    "work_outliers = df[(df['工龄'] < work_downbound) | (df['工龄'] > work_upbound)]\n",
    "print(\"工龄的异常值：\")\n",
    "print(work_outliers)"
   ]
  },
  {
   "cell_type": "code",
   "execution_count": 16,
   "id": "6153b571",
   "metadata": {},
   "outputs": [],
   "source": [
    "#只有6个差异值，影响不大，不做处理"
   ]
  },
  {
   "cell_type": "code",
   "execution_count": 17,
   "id": "b470e2fc",
   "metadata": {},
   "outputs": [
    {
     "data": {
      "image/png": "[encoded data removed]",
      "text/plain": [
       "<Figure size 640x480 with 1 Axes>"
      ]
     },
     "metadata": {},
     "output_type": "display_data"
    }
   ],
   "source": [
    "# 按照年龄分组，并计算每个年龄段的违约率\n",
    "age_groups = df.groupby('年龄')['违约'].mean()\n",
    "\n",
    "# 绘制条形图\n",
    "plt.bar(x=age_groups.index, height=age_groups.values)\n",
    "plt.xlabel('年龄')\n",
    "plt.ylabel('违约率')\n",
    "plt.show()\n"
   ]
  },
  {
   "cell_type": "markdown",
   "id": "a9ca3e70",
   "metadata": {},
   "source": [
    "20-25岁和50-55岁年龄组的违约率似乎比其他年龄组要高一些，推测原因：\n",
    "1.缺乏财务意识：20-25岁的人通常刚刚开始独立生活，他们可能缺乏足够的财务知识和经验来管理自己的财务，导致无法有效地还款。而50-55岁的人则可能由于家庭责任、子女教育等原因，也可能会忽略个人财务规划和管理，从而导致违约。\n",
    "2.支付能力降低：20-25岁的人通常处于学习阶段或刚刚步入职场，收入相对较低，同时面临着房租、交通、食品、日常开销等支出压力，很难保证还款能力。而50-55岁的人可能已经进入退休或者工资收入减少的状态，在养老金或其他被动收入来源不稳定的情况下，支付能力也可能会降低。\n",
    "3.生活方式：某些年龄段的人更可能有一种消费倾向，例如在20-25岁的年轻人中，可能存在一种“享受当下”的思想，即通过消费来满足自己的需求，而不考虑未来可能出现的经济压力。50-55岁的人则可能会有一种“补偿式消费”的倾向，即在退休前将生活方式提升到更高的水平，导致消费增加和资金短缺。"
   ]
  },
  {
   "cell_type": "code",
   "execution_count": 18,
   "id": "8aa30acf",
   "metadata": {},
   "outputs": [
    {
     "data": {
      "image/png": "[encoded data removed]",
      "text/plain": [
       "<Figure size 640x480 with 1 Axes>"
      ]
     },
     "metadata": {},
     "output_type": "display_data"
    }
   ],
   "source": [
    "\n",
    "# 按教育水平分组，并计算每种水平的违约人数和非违约人数\n",
    "education_groups = df.groupby('教育')['违约'].value_counts().unstack()\n",
    "\n",
    "# 绘制堆积柱状图\n",
    "education_groups.plot(kind='bar', stacked=True)\n",
    "plt.xlabel('教育水平')\n",
    "plt.ylabel('人数')\n",
    "plt.title('教育与违约的关系')\n",
    "plt.legend(['未违约', '违约'])\n",
    "plt.show()"
   ]
  },
  {
   "cell_type": "code",
   "execution_count": 19,
   "id": "834e08b4",
   "metadata": {},
   "outputs": [],
   "source": [
    "#明显看出，学历越低的人，违约越多，违约占比越高"
   ]
  },
  {
   "cell_type": "code",
   "execution_count": 20,
   "id": "1722776a",
   "metadata": {},
   "outputs": [
    {
     "data": {
      "image/png": "[encoded data removed]",
      "text/plain": [
       "<Figure size 640x480 with 1 Axes>"
      ]
     },
     "metadata": {},
     "output_type": "display_data"
    }
   ],
   "source": [
    "# 绘制箱型图\n",
    "plt.boxplot([df[df['违约']==0]['工龄'], df[df['违约']==1]['工龄']])\n",
    "plt.xticks(ticks=[1,2], labels=['未违约', '违约'])\n",
    "plt.ylabel('工龄')\n",
    "plt.title('工龄与违约的关系')\n",
    "plt.show()"
   ]
  },
  {
   "cell_type": "code",
   "execution_count": 21,
   "id": "e3c378a5",
   "metadata": {},
   "outputs": [],
   "source": [
    "#违约的工龄相比未违约的工龄平均较短---负相关"
   ]
  },
  {
   "cell_type": "markdown",
   "id": "1b6f0c89",
   "metadata": {},
   "source": [
    "相关性检验--初步检测各因素和违约之间是否存在显著关系——pearson"
   ]
  },
  {
   "cell_type": "code",
   "execution_count": 52,
   "id": "66e57415",
   "metadata": {},
   "outputs": [
    {
     "data": {
      "text/html": [
       "<div>\n",
       "<style scoped>\n",
       "    .dataframe tbody tr th:only-of-type {\n",
       "        vertical-align: middle;\n",
       "    }\n",
       "\n",
       "    .dataframe tbody tr th {\n",
       "        vertical-align: top;\n",
       "    }\n",
       "\n",
       "    .dataframe thead th {\n",
       "        text-align: right;\n",
       "    }\n",
       "</style>\n",
       "<table border=\"1\" class=\"dataframe\">\n",
       "  <thead>\n",
       "    <tr style=\"text-align: right;\">\n",
       "      <th></th>\n",
       "      <th>收入</th>\n",
       "      <th>负债率</th>\n",
       "      <th>信用卡负债</th>\n",
       "      <th>年龄</th>\n",
       "      <th>教育</th>\n",
       "      <th>工龄</th>\n",
       "      <th>违约</th>\n",
       "    </tr>\n",
       "  </thead>\n",
       "  <tbody>\n",
       "    <tr>\n",
       "      <th>收入</th>\n",
       "      <td>1.000000</td>\n",
       "      <td>-0.026777</td>\n",
       "      <td>0.570217</td>\n",
       "      <td>0.478710</td>\n",
       "      <td>0.235190</td>\n",
       "      <td>0.619681</td>\n",
       "      <td>-0.070970</td>\n",
       "    </tr>\n",
       "    <tr>\n",
       "      <th>负债率</th>\n",
       "      <td>-0.026777</td>\n",
       "      <td>1.000000</td>\n",
       "      <td>0.501732</td>\n",
       "      <td>0.016398</td>\n",
       "      <td>0.008838</td>\n",
       "      <td>-0.031182</td>\n",
       "      <td>0.389575</td>\n",
       "    </tr>\n",
       "    <tr>\n",
       "      <th>信用卡负债</th>\n",
       "      <td>0.570217</td>\n",
       "      <td>0.501732</td>\n",
       "      <td>1.000000</td>\n",
       "      <td>0.295137</td>\n",
       "      <td>0.088245</td>\n",
       "      <td>0.403701</td>\n",
       "      <td>0.244739</td>\n",
       "    </tr>\n",
       "    <tr>\n",
       "      <th>年龄</th>\n",
       "      <td>0.478710</td>\n",
       "      <td>0.016398</td>\n",
       "      <td>0.295137</td>\n",
       "      <td>1.000000</td>\n",
       "      <td>0.022325</td>\n",
       "      <td>0.536497</td>\n",
       "      <td>-0.137657</td>\n",
       "    </tr>\n",
       "    <tr>\n",
       "      <th>教育</th>\n",
       "      <td>0.235190</td>\n",
       "      <td>0.008838</td>\n",
       "      <td>0.088245</td>\n",
       "      <td>0.022325</td>\n",
       "      <td>1.000000</td>\n",
       "      <td>-0.153621</td>\n",
       "      <td>0.114676</td>\n",
       "    </tr>\n",
       "    <tr>\n",
       "      <th>工龄</th>\n",
       "      <td>0.619681</td>\n",
       "      <td>-0.031182</td>\n",
       "      <td>0.403701</td>\n",
       "      <td>0.536497</td>\n",
       "      <td>-0.153621</td>\n",
       "      <td>1.000000</td>\n",
       "      <td>-0.282978</td>\n",
       "    </tr>\n",
       "    <tr>\n",
       "      <th>违约</th>\n",
       "      <td>-0.070970</td>\n",
       "      <td>0.389575</td>\n",
       "      <td>0.244739</td>\n",
       "      <td>-0.137657</td>\n",
       "      <td>0.114676</td>\n",
       "      <td>-0.282978</td>\n",
       "      <td>1.000000</td>\n",
       "    </tr>\n",
       "  </tbody>\n",
       "</table>\n",
       "</div>"
      ],
      "text/plain": [
       "             收入       负债率     信用卡负债        年龄        教育        工龄        违约\n",
       "收入     1.000000 -0.026777  0.570217  0.478710  0.235190  0.619681 -0.070970\n",
       "负债率   -0.026777  1.000000  0.501732  0.016398  0.008838 -0.031182  0.389575\n",
       "信用卡负债  0.570217  0.501732  1.000000  0.295137  0.088245  0.403701  0.244739\n",
       "年龄     0.478710  0.016398  0.295137  1.000000  0.022325  0.536497 -0.137657\n",
       "教育     0.235190  0.008838  0.088245  0.022325  1.000000 -0.153621  0.114676\n",
       "工龄     0.619681 -0.031182  0.403701  0.536497 -0.153621  1.000000 -0.282978\n",
       "违约    -0.070970  0.389575  0.244739 -0.137657  0.114676 -0.282978  1.000000"
      ]
     },
     "execution_count": 52,
     "metadata": {},
     "output_type": "execute_result"
    }
   ],
   "source": [
    "# 计算 Pearson 相关矩阵\n",
    "corr_matrix = df[['收入', '负债率', '信用卡负债','年龄', '教育', '工龄', '违约']].corr(method='pearson')\n",
    "\n",
    "# 打印 Pearson 相关系数\n",
    "corr_matrix "
   ]
  },
  {
   "cell_type": "markdown",
   "id": "ac1209e7",
   "metadata": {},
   "source": [
    "1.年龄和工龄之间的 Pearson 相关系数为 0.536，说明两个变量之间存在一定程度的正相关关系，即随着年龄的增长，工龄也有相应的增长。\n",
    "2.年龄和违约率之间的 Pearson 相关系数为 -0.138，表明两个变量之间存在轻微的负相关关系。这意味着随着年龄的增长，违约率可能会略微降低。但是由于相关系数较小，因此这种关系并不显著。\n",
    "3.工龄和违约率之间的 Pearson 相关系数为 -0.283，表明两个变量之间存在一定程度的负相关关系，即随着工龄的增加，违约率可能会略微降低。"
   ]
  },
  {
   "cell_type": "code",
   "execution_count": 23,
   "id": "5b6b233c",
   "metadata": {},
   "outputs": [],
   "source": [
    "#建立因为我的违约是二元变量，因此建立逻辑回归模型"
   ]
  },
  {
   "cell_type": "code",
   "execution_count": 53,
   "id": "b7dcdc28",
   "metadata": {},
   "outputs": [
    {
     "name": "stdout",
     "output_type": "stream",
     "text": [
      "Optimization terminated successfully.\n",
      "         Current function value: 0.410159\n",
      "         Iterations 7\n"
     ]
    },
    {
     "data": {
      "text/html": [
       "<table class=\"simpletable\">\n",
       "<caption>Logit Regression Results</caption>\n",
       "<tr>\n",
       "  <th>Dep. Variable:</th>          <td>违约</td>        <th>  No. Observations:  </th>  <td>   700</td>  \n",
       "</tr>\n",
       "<tr>\n",
       "  <th>Model:</th>                 <td>Logit</td>      <th>  Df Residuals:      </th>  <td>   693</td>  \n",
       "</tr>\n",
       "<tr>\n",
       "  <th>Method:</th>                 <td>MLE</td>       <th>  Df Model:          </th>  <td>     6</td>  \n",
       "</tr>\n",
       "<tr>\n",
       "  <th>Date:</th>            <td>Thu, 22 Jun 2023</td> <th>  Pseudo R-squ.:     </th>  <td>0.2861</td>  \n",
       "</tr>\n",
       "<tr>\n",
       "  <th>Time:</th>                <td>22:28:23</td>     <th>  Log-Likelihood:    </th> <td> -287.11</td> \n",
       "</tr>\n",
       "<tr>\n",
       "  <th>converged:</th>             <td>True</td>       <th>  LL-Null:           </th> <td> -402.18</td> \n",
       "</tr>\n",
       "<tr>\n",
       "  <th>Covariance Type:</th>     <td>nonrobust</td>    <th>  LLR p-value:       </th> <td>7.144e-47</td>\n",
       "</tr>\n",
       "</table>\n",
       "<table class=\"simpletable\">\n",
       "<tr>\n",
       "      <td></td>         <th>coef</th>     <th>std err</th>      <th>z</th>      <th>P>|z|</th>  <th>[0.025</th>    <th>0.975]</th>  \n",
       "</tr>\n",
       "<tr>\n",
       "  <th>Intercept</th> <td>   -0.9097</td> <td>    0.536</td> <td>   -1.697</td> <td> 0.090</td> <td>   -1.960</td> <td>    0.141</td>\n",
       "</tr>\n",
       "<tr>\n",
       "  <th>年龄</th>        <td>   -0.0094</td> <td>    0.015</td> <td>   -0.629</td> <td> 0.529</td> <td>   -0.039</td> <td>    0.020</td>\n",
       "</tr>\n",
       "<tr>\n",
       "  <th>教育</th>        <td>    0.0585</td> <td>    0.120</td> <td>    0.489</td> <td> 0.625</td> <td>   -0.176</td> <td>    0.293</td>\n",
       "</tr>\n",
       "<tr>\n",
       "  <th>工龄</th>        <td>   -0.2299</td> <td>    0.030</td> <td>   -7.714</td> <td> 0.000</td> <td>   -0.288</td> <td>   -0.171</td>\n",
       "</tr>\n",
       "<tr>\n",
       "  <th>收入</th>        <td>   -0.0052</td> <td>    0.006</td> <td>   -0.878</td> <td> 0.380</td> <td>   -0.017</td> <td>    0.006</td>\n",
       "</tr>\n",
       "<tr>\n",
       "  <th>负债率</th>       <td>    0.0815</td> <td>    0.020</td> <td>    4.164</td> <td> 0.000</td> <td>    0.043</td> <td>    0.120</td>\n",
       "</tr>\n",
       "<tr>\n",
       "  <th>信用卡负债</th>     <td>    0.5528</td> <td>    0.100</td> <td>    5.502</td> <td> 0.000</td> <td>    0.356</td> <td>    0.750</td>\n",
       "</tr>\n",
       "</table>"
      ],
      "text/plain": [
       "<class 'statsmodels.iolib.summary.Summary'>\n",
       "\"\"\"\n",
       "                           Logit Regression Results                           \n",
       "==============================================================================\n",
       "Dep. Variable:                     违约   No. Observations:                  700\n",
       "Model:                          Logit   Df Residuals:                      693\n",
       "Method:                           MLE   Df Model:                            6\n",
       "Date:                Thu, 22 Jun 2023   Pseudo R-squ.:                  0.2861\n",
       "Time:                        22:28:23   Log-Likelihood:                -287.11\n",
       "converged:                       True   LL-Null:                       -402.18\n",
       "Covariance Type:            nonrobust   LLR p-value:                 7.144e-47\n",
       "==============================================================================\n",
       "                 coef    std err          z      P>|z|      [0.025      0.975]\n",
       "------------------------------------------------------------------------------\n",
       "Intercept     -0.9097      0.536     -1.697      0.090      -1.960       0.141\n",
       "年龄            -0.0094      0.015     -0.629      0.529      -0.039       0.020\n",
       "教育             0.0585      0.120      0.489      0.625      -0.176       0.293\n",
       "工龄            -0.2299      0.030     -7.714      0.000      -0.288      -0.171\n",
       "收入            -0.0052      0.006     -0.878      0.380      -0.017       0.006\n",
       "负债率            0.0815      0.020      4.164      0.000       0.043       0.120\n",
       "信用卡负债          0.5528      0.100      5.502      0.000       0.356       0.750\n",
       "==============================================================================\n",
       "\"\"\""
      ]
     },
     "execution_count": 53,
     "metadata": {},
     "output_type": "execute_result"
    }
   ],
   "source": [
    "import statsmodels.formula.api as smf\n",
    "\n",
    "# 构建二元Logistic回归模型\n",
    "model = smf.logit('违约 ~ 年龄 + 教育 + 工龄 + 收入 + 负债率 + 信用卡负债', data=df).fit()\n",
    "\n",
    "# 输出回归结果报告\n",
    "model.summary()\n"
   ]
  },
  {
   "cell_type": "markdown",
   "id": "4a9cda55",
   "metadata": {},
   "source": [
    "\n",
    "\n",
    "在分析影响因素时，R平方值不是特别重要，只需要重点分析显著性即可。\n",
    "\n",
    "H1：年龄对违约率没有显著影响\n",
    "H2：教育对违约率没有显著影响\n",
    "H3：工龄对违约率没有显著影响\n",
    "H4：收入对违约率没有显著影响\n",
    "H5：负债率对违约率没有显著影响\n",
    "H6：信用卡负债对违约率没有显著影响\n",
    "\n",
    "\n",
    "结论：\n",
    "年龄的系数为-0.0094，p值为0.529，大于0.05的显著性水平，因此接受原假设H1，认为年龄对违约率没有显著影响。\n",
    "教育的系数为0.0585，p值为0.625，大于0.05的显著性水平，因此接受原假设H2，认为教育对违约率没有显著影响；\n",
    "收入的系数为-0.0052，p值为0.380，大于0.05的显著性水平，因此接受原假设H3，说明收入对违约率没有显著影响。\n",
    "\n",
    "\n",
    "工龄的系数为-0.2299，p值小于0.05的显著性水平，可以拒绝原假设，并认为工龄与违约率之间存在显著负相关关系。\n",
    "因为负债率的系数为0.0815，p值小于0.05的显著性水平，可以拒绝原假设H4，并认为负债率与违约率之间存在显著正相关关系。\n",
    "信用卡负债对违约率有显著影响。因为信用卡负债的系数为0.5528，p值小于0.05的显著性水平，可以拒绝原假设，并认为信用卡负债与违约率之间存在显著正相关关系。\n",
    "\n",
    "\n",
    "\n",
    "反思：可视化分析（自变量和因变量之间是线性相关的）结果  VS  回归模型（非线性相关）结果不同"
   ]
  },
  {
   "cell_type": "markdown",
   "id": "502d46a8",
   "metadata": {},
   "source": [
    "# ***********************************************"
   ]
  },
  {
   "cell_type": "markdown",
   "id": "740fe017",
   "metadata": {},
   "source": [
    "第二个问题：收入、负债率、信用卡负债等因素是否能够预测是否会发生违约？"
   ]
  },
  {
   "cell_type": "code",
   "execution_count": 25,
   "id": "61b4c895",
   "metadata": {},
   "outputs": [],
   "source": [
    "#先检验共线性问题（后续）——>逻辑回归训练"
   ]
  },
  {
   "cell_type": "code",
   "execution_count": 54,
   "id": "ed2af42d",
   "metadata": {
    "scrolled": true
   },
   "outputs": [
    {
     "name": "stdout",
     "output_type": "stream",
     "text": [
      "Optimization terminated successfully.\n",
      "         Current function value: 0.387043\n",
      "         Iterations 7\n"
     ]
    },
    {
     "data": {
      "text/html": [
       "<table class=\"simpletable\">\n",
       "<caption>Logit Regression Results</caption>\n",
       "<tr>\n",
       "  <th>Dep. Variable:</th>          <td>违约</td>        <th>  No. Observations:  </th>  <td>   490</td>  \n",
       "</tr>\n",
       "<tr>\n",
       "  <th>Model:</th>                 <td>Logit</td>      <th>  Df Residuals:      </th>  <td>   483</td>  \n",
       "</tr>\n",
       "<tr>\n",
       "  <th>Method:</th>                 <td>MLE</td>       <th>  Df Model:          </th>  <td>     6</td>  \n",
       "</tr>\n",
       "<tr>\n",
       "  <th>Date:</th>            <td>Thu, 22 Jun 2023</td> <th>  Pseudo R-squ.:     </th>  <td>0.2800</td>  \n",
       "</tr>\n",
       "<tr>\n",
       "  <th>Time:</th>                <td>23:19:03</td>     <th>  Log-Likelihood:    </th> <td> -189.65</td> \n",
       "</tr>\n",
       "<tr>\n",
       "  <th>converged:</th>             <td>True</td>       <th>  LL-Null:           </th> <td> -263.40</td> \n",
       "</tr>\n",
       "<tr>\n",
       "  <th>Covariance Type:</th>     <td>nonrobust</td>    <th>  LLR p-value:       </th> <td>2.624e-29</td>\n",
       "</tr>\n",
       "</table>\n",
       "<table class=\"simpletable\">\n",
       "<tr>\n",
       "    <td></td>       <th>coef</th>     <th>std err</th>      <th>z</th>      <th>P>|z|</th>  <th>[0.025</th>    <th>0.975]</th>  \n",
       "</tr>\n",
       "<tr>\n",
       "  <th>const</th> <td>   -1.2281</td> <td>    0.651</td> <td>   -1.886</td> <td> 0.059</td> <td>   -2.505</td> <td>    0.048</td>\n",
       "</tr>\n",
       "<tr>\n",
       "  <th>收入</th>    <td>   -0.0031</td> <td>    0.007</td> <td>   -0.418</td> <td> 0.676</td> <td>   -0.018</td> <td>    0.011</td>\n",
       "</tr>\n",
       "<tr>\n",
       "  <th>负债率</th>   <td>    0.0615</td> <td>    0.024</td> <td>    2.544</td> <td> 0.011</td> <td>    0.014</td> <td>    0.109</td>\n",
       "</tr>\n",
       "<tr>\n",
       "  <th>信用卡负债</th> <td>    0.5760</td> <td>    0.120</td> <td>    4.815</td> <td> 0.000</td> <td>    0.342</td> <td>    0.811</td>\n",
       "</tr>\n",
       "<tr>\n",
       "  <th>年龄</th>    <td>   -0.0009</td> <td>    0.017</td> <td>   -0.050</td> <td> 0.960</td> <td>   -0.035</td> <td>    0.033</td>\n",
       "</tr>\n",
       "<tr>\n",
       "  <th>教育</th>    <td>    0.0529</td> <td>    0.143</td> <td>    0.370</td> <td> 0.711</td> <td>   -0.227</td> <td>    0.333</td>\n",
       "</tr>\n",
       "<tr>\n",
       "  <th>工龄</th>    <td>   -0.2475</td> <td>    0.038</td> <td>   -6.473</td> <td> 0.000</td> <td>   -0.322</td> <td>   -0.173</td>\n",
       "</tr>\n",
       "</table>"
      ],
      "text/plain": [
       "<class 'statsmodels.iolib.summary.Summary'>\n",
       "\"\"\"\n",
       "                           Logit Regression Results                           \n",
       "==============================================================================\n",
       "Dep. Variable:                     违约   No. Observations:                  490\n",
       "Model:                          Logit   Df Residuals:                      483\n",
       "Method:                           MLE   Df Model:                            6\n",
       "Date:                Thu, 22 Jun 2023   Pseudo R-squ.:                  0.2800\n",
       "Time:                        23:19:03   Log-Likelihood:                -189.65\n",
       "converged:                       True   LL-Null:                       -263.40\n",
       "Covariance Type:            nonrobust   LLR p-value:                 2.624e-29\n",
       "==============================================================================\n",
       "                 coef    std err          z      P>|z|      [0.025      0.975]\n",
       "------------------------------------------------------------------------------\n",
       "const         -1.2281      0.651     -1.886      0.059      -2.505       0.048\n",
       "收入            -0.0031      0.007     -0.418      0.676      -0.018       0.011\n",
       "负债率            0.0615      0.024      2.544      0.011       0.014       0.109\n",
       "信用卡负债          0.5760      0.120      4.815      0.000       0.342       0.811\n",
       "年龄            -0.0009      0.017     -0.050      0.960      -0.035       0.033\n",
       "教育             0.0529      0.143      0.370      0.711      -0.227       0.333\n",
       "工龄            -0.2475      0.038     -6.473      0.000      -0.322      -0.173\n",
       "==============================================================================\n",
       "\"\"\""
      ]
     },
     "execution_count": 54,
     "metadata": {},
     "output_type": "execute_result"
    }
   ],
   "source": [
    "import statsmodels.api as sm\n",
    "from sklearn.model_selection import train_test_split\n",
    "from sklearn.metrics import classification_report, confusion_matrix\n",
    "\n",
    "# 取出自变量和因变量\n",
    "X = df[['收入', '负债率', '信用卡负债', '年龄', '教育', '工龄']]\n",
    "y = df['违约']\n",
    "\n",
    "# 数据集分为训练集和测试集\n",
    "X_train, X_test, y_train, y_test = train_test_split(X, y, test_size=0.3)\n",
    "\n",
    "# 逻辑回归模型\n",
    "model = sm.Logit(y_train, sm.add_constant(X_train)).fit()\n",
    "\n",
    "# 输出\n",
    "model.summary()\n"
   ]
  },
  {
   "cell_type": "markdown",
   "id": "d96931d4",
   "metadata": {},
   "source": [
    "根据该输出，这是一个逻辑回归模型的拟合结果。我们可以得到以下结论：\n",
    "\n",
    "模型的似然函数值为0.433986，表示拟合程度较好。（在逻辑回归中，似然函数（likelihood function）是一种衡量模型拟合程度的方法。似然函数的值越大，说明模型与数据之间的契合度越好，也就是说模型能够较好地解释观测到的数据。而似然函数值越小，则说明模型与数据之间的差异越大。\n",
    "\n",
    "对于逻辑回归模型而言，似然函数表示模型参数在给定样本下的条件概率分布。MLE（maximum likelihood estimation）方法通过最大化似然函数来估计模型参数，使得所得到的样本数据出现的概率最大。因此，在逻辑回归中，似然函数值越大，说明模型与数据之间的契合度越好，模型的预测能力也就越强。\n",
    "\n",
    "在该输出中，我们可以看到模型的似然函数值为0.433986，这个数值虽然不是非常高，但是已经表明了该模型能够较好地解释数据，其拟合程度较好，同时也说明该模型有一定的预测能力。）\n",
    "\n",
    "收入、年龄和教育等变量的系数不显著，说明它们对于判断是否违约的影响较小；而负债率、信用卡负债和工龄等变量的系数显著，说明它们对于判断是否违约的影响较大。\n",
    "需要注意的是，由于该模型使用了MLE（maximum likelihood estimation）方法进行参数估计，"
   ]
  },
  {
   "cell_type": "markdown",
   "id": "79bbd7ee",
   "metadata": {},
   "source": [
    "输出分类报告和混淆矩阵是用来评估模型性能的重要步骤，其可以帮助我们更直观地了解模型在测试集上的预测效果，以及模型对于不同类别样本的识别能力。\n",
    "\n",
    "首先，分类报告能够给出模型的精度、召回率和F1分数等指标，从多个角度综合评估模型的表现。这些指标可以告诉我们模型的整体性能如何，并且能够帮助我们判断模型在预测哪个类别时出现了问题。比如，在该输出中，分类报告显示模型对于“违约”类别的预测效果较差，其精度只有0.32，召回率也只有0.26，F1-score值为0.29，这说明模型存在较高的假负例率，即将实际上应该预测为“违约”的样本错误地预测为“未违约”。\n",
    "\n",
    "其次，混淆矩阵则进一步展示了模型在测试集上的预测效果，可以帮助我们计算模型的准确率、误差率、精度、召回率等指标，从而更加详细地了解模型的预测效果和错误类型。比如，在该输出中，混淆矩阵显示模型将138个样本正确预测为“未违约”，25个样本错误预测为“未违约”，35个样本错误预测为“违约”，12个样本正确预测为“违约”。这也进一步印证了分类报告中的结论，即模型在预测“违约”类别时存在较高的假负例率。\n",
    "\n",
    "通过输出分类报告和混淆矩阵，我们可以更加客观地评估模型的性能、了解其在测试集上的表现，并针对其存在的问题进行调整和优化，以提升模型的预测效果和泛化能力。"
   ]
  },
  {
   "cell_type": "markdown",
   "id": "bdb18448",
   "metadata": {},
   "source": [
    "对于类别0（没有违约），模型具有较高的精度和召回率，说明模型能够准确地预测哪些客户不会违约。对于类别1（有违约），模型的召回率较低，但精度较高，说明模型可以较好地区分出真正会违约的客户。总体来说，模型具有良好的平衡性，可以有效地预测违约率\n",
    "\n"
   ]
  },
  {
   "cell_type": "code",
   "execution_count": null,
   "id": "06bdff35",
   "metadata": {},
   "outputs": [],
   "source": []
  },
  {
   "cell_type": "code",
   "execution_count": null,
   "id": "d30e469a",
   "metadata": {},
   "outputs": [],
   "source": []
  },
  {
   "cell_type": "code",
   "execution_count": null,
   "id": "971e5f6c",
   "metadata": {},
   "outputs": [],
   "source": []
  },
  {
   "cell_type": "markdown",
   "id": "c7059dd7",
   "metadata": {},
   "source": [
    "考虑是不是存在多重共线性问题，要删除一个自变量"
   ]
  },
  {
   "cell_type": "code",
   "execution_count": 36,
   "id": "2ce95fff",
   "metadata": {},
   "outputs": [],
   "source": [
    "# 删除\"违约\"和\"其他负债\"列\n",
    "X = df.drop([\"违约\", \"其他负债\"], axis=1)\n",
    "\n",
    "# 计算自变量之间的相关性\n",
    "corr_matrix = X.corr()\n"
   ]
  },
  {
   "cell_type": "code",
   "execution_count": 37,
   "id": "3609a22e",
   "metadata": {
    "scrolled": true
   },
   "outputs": [
    {
     "data": {
      "text/html": [
       "<div>\n",
       "<style scoped>\n",
       "    .dataframe tbody tr th:only-of-type {\n",
       "        vertical-align: middle;\n",
       "    }\n",
       "\n",
       "    .dataframe tbody tr th {\n",
       "        vertical-align: top;\n",
       "    }\n",
       "\n",
       "    .dataframe thead th {\n",
       "        text-align: right;\n",
       "    }\n",
       "</style>\n",
       "<table border=\"1\" class=\"dataframe\">\n",
       "  <thead>\n",
       "    <tr style=\"text-align: right;\">\n",
       "      <th></th>\n",
       "      <th>年龄</th>\n",
       "      <th>教育</th>\n",
       "      <th>工龄</th>\n",
       "      <th>收入</th>\n",
       "      <th>负债率</th>\n",
       "      <th>信用卡负债</th>\n",
       "    </tr>\n",
       "  </thead>\n",
       "  <tbody>\n",
       "    <tr>\n",
       "      <th>年龄</th>\n",
       "      <td>1.000000</td>\n",
       "      <td>0.022325</td>\n",
       "      <td>0.536497</td>\n",
       "      <td>0.478710</td>\n",
       "      <td>0.016398</td>\n",
       "      <td>0.295137</td>\n",
       "    </tr>\n",
       "    <tr>\n",
       "      <th>教育</th>\n",
       "      <td>0.022325</td>\n",
       "      <td>1.000000</td>\n",
       "      <td>-0.153621</td>\n",
       "      <td>0.235190</td>\n",
       "      <td>0.008838</td>\n",
       "      <td>0.088245</td>\n",
       "    </tr>\n",
       "    <tr>\n",
       "      <th>工龄</th>\n",
       "      <td>0.536497</td>\n",
       "      <td>-0.153621</td>\n",
       "      <td>1.000000</td>\n",
       "      <td>0.619681</td>\n",
       "      <td>-0.031182</td>\n",
       "      <td>0.403701</td>\n",
       "    </tr>\n",
       "    <tr>\n",
       "      <th>收入</th>\n",
       "      <td>0.478710</td>\n",
       "      <td>0.235190</td>\n",
       "      <td>0.619681</td>\n",
       "      <td>1.000000</td>\n",
       "      <td>-0.026777</td>\n",
       "      <td>0.570217</td>\n",
       "    </tr>\n",
       "    <tr>\n",
       "      <th>负债率</th>\n",
       "      <td>0.016398</td>\n",
       "      <td>0.008838</td>\n",
       "      <td>-0.031182</td>\n",
       "      <td>-0.026777</td>\n",
       "      <td>1.000000</td>\n",
       "      <td>0.501732</td>\n",
       "    </tr>\n",
       "    <tr>\n",
       "      <th>信用卡负债</th>\n",
       "      <td>0.295137</td>\n",
       "      <td>0.088245</td>\n",
       "      <td>0.403701</td>\n",
       "      <td>0.570217</td>\n",
       "      <td>0.501732</td>\n",
       "      <td>1.000000</td>\n",
       "    </tr>\n",
       "  </tbody>\n",
       "</table>\n",
       "</div>"
      ],
      "text/plain": [
       "             年龄        教育        工龄        收入       负债率     信用卡负债\n",
       "年龄     1.000000  0.022325  0.536497  0.478710  0.016398  0.295137\n",
       "教育     0.022325  1.000000 -0.153621  0.235190  0.008838  0.088245\n",
       "工龄     0.536497 -0.153621  1.000000  0.619681 -0.031182  0.403701\n",
       "收入     0.478710  0.235190  0.619681  1.000000 -0.026777  0.570217\n",
       "负债率    0.016398  0.008838 -0.031182 -0.026777  1.000000  0.501732\n",
       "信用卡负债  0.295137  0.088245  0.403701  0.570217  0.501732  1.000000"
      ]
     },
     "execution_count": 37,
     "metadata": {},
     "output_type": "execute_result"
    }
   ],
   "source": [
    "corr_matrix"
   ]
  },
  {
   "cell_type": "code",
   "execution_count": 73,
   "id": "bb51107f",
   "metadata": {},
   "outputs": [
    {
     "data": {
      "text/plain": [
       "array([[130.68755028,   9.55288106,   2.57055808,   2.30350604],\n",
       "       [-15.11891543,   2.97096388,   7.36972539,  -5.89666815],\n",
       "       [ 10.57905132,  -4.90295876,  -6.00922657,  -3.12522492],\n",
       "       ...,\n",
       "       [-12.8989591 ,  -2.31102057,  -3.63527381,  -7.46723379],\n",
       "       [ 33.32107415,  -8.38093307,  -3.56006851,  -3.52140194],\n",
       "       [ -0.91827159,  -4.43276593,   3.7189276 ,  -2.7513294 ]])"
      ]
     },
     "execution_count": 73,
     "metadata": {},
     "output_type": "execute_result"
    }
   ],
   "source": [
    "X_pca = PCA(n_components=4).fit_transform(X)\n",
    "X_pca"
   ]
  },
  {
   "cell_type": "code",
   "execution_count": 76,
   "id": "2fde1b1f",
   "metadata": {},
   "outputs": [],
   "source": [
    "from sklearn.model_selection import train_test_split\n",
    "from sklearn.linear_model import LogisticRegression\n",
    "\n",
    "# 将数据集划分为训练集和测试集\n",
    "X_train, X_test, y_train, y_test = train_test_split(X_pca, df[\"违约\"], test_size=0.2, random_state=42)\n",
    "\n",
    "# 训练逻辑回归模型\n",
    "clf = LogisticRegression()\n",
    "clf.fit(X_train, y_train)\n",
    "\n",
    "# 在测试集上进行预测\n",
    "y_pred = clf.predict(X_test)\n",
    "accuracy = clf.score(X_test, y_test)"
   ]
  },
  {
   "cell_type": "code",
   "execution_count": 77,
   "id": "c12035bd",
   "metadata": {},
   "outputs": [
    {
     "data": {
      "text/plain": [
       "0.8285714285714286"
      ]
     },
     "execution_count": 77,
     "metadata": {},
     "output_type": "execute_result"
    }
   ],
   "source": [
    "accuracy "
   ]
  },
  {
   "cell_type": "code",
   "execution_count": 81,
   "id": "ee5afb94",
   "metadata": {},
   "outputs": [
    {
     "name": "stdout",
     "output_type": "stream",
     "text": [
      "              precision    recall  f1-score   support\n",
      "\n",
      "         0.0       0.82      0.97      0.89       102\n",
      "         1.0       0.85      0.45      0.59        38\n",
      "\n",
      "    accuracy                           0.83       140\n",
      "   macro avg       0.84      0.71      0.74       140\n",
      "weighted avg       0.83      0.83      0.81       140\n",
      "\n",
      "[[99  3]\n",
      " [21 17]]\n"
     ]
    }
   ],
   "source": [
    "from sklearn.metrics import confusion_matrix, classification_report\n",
    "\n",
    "# 使用模型进行预测\n",
    "y_pred = clf.predict(X_test)\n",
    "y_pred = [1 if p > 0.5 else 0 for p in y_pred]\n",
    "\n",
    "# 输出分类报告和混淆矩阵\n",
    "print(classification_report(y_test, y_pred))\n",
    "print(confusion_matrix(y_test, y_pred))\n"
   ]
  },
  {
   "cell_type": "code",
   "execution_count": null,
   "id": "461588d2",
   "metadata": {},
   "outputs": [],
   "source": []
  },
  {
   "cell_type": "code",
   "execution_count": null,
   "id": "f7f68c1c",
   "metadata": {},
   "outputs": [],
   "source": []
  },
  {
   "cell_type": "code",
   "execution_count": null,
   "id": "74179c1e",
   "metadata": {},
   "outputs": [],
   "source": []
  },
  {
   "cell_type": "code",
   "execution_count": null,
   "id": "faa1639b",
   "metadata": {},
   "outputs": [],
   "source": []
  },
  {
   "cell_type": "markdown",
   "id": "b2bd0d0f",
   "metadata": {},
   "source": [
    "2.模型构建——多元线性回归,但是我的因变量是二元变量（0/1）所以应该采用逻辑回归"
   ]
  },
  {
   "cell_type": "code",
   "execution_count": 29,
   "id": "02b4a7db",
   "metadata": {},
   "outputs": [
    {
     "name": "stdout",
     "output_type": "stream",
     "text": [
      "Eigenvalues: [1356.78015455    1.77651136   47.82429258]\n"
     ]
    }
   ],
   "source": [
    "# 计算协方差矩阵\n",
    "cov_matrix = np.cov(X.T)\n",
    "\n",
    "# 计算特征值和特征向量\n",
    "eigenvalues, eigenvectors = np.linalg.eig(cov_matrix)\n",
    "\n",
    "# 查看特征值\n",
    "print(\"Eigenvalues:\", eigenvalues)"
   ]
  },
  {
   "cell_type": "markdown",
   "id": "1791b185",
   "metadata": {},
   "source": [
    "列的第二个因素“负债率” 1.77651136 ：存在多重共线性，删除怕导致模型性能下降，采用PCA降维"
   ]
  },
  {
   "cell_type": "code",
   "execution_count": 30,
   "id": "9878f992",
   "metadata": {},
   "outputs": [
    {
     "name": "stdout",
     "output_type": "stream",
     "text": [
      "PCA transformed variables:\n",
      " [[130.65333848   0.59872293]\n",
      " [-14.63459406   6.91919964]\n",
      " [  9.39420837  -4.81463184]\n",
      " ...\n",
      " [-13.61566168  -2.79227069]\n",
      " [ 31.41498648  -1.72857288]\n",
      " [ -1.57538251   4.61610158]]\n"
     ]
    }
   ],
   "source": [
    "from sklearn.decomposition import PCA\n",
    "\n",
    "# 实例化PCA模型，选择降维后的主成分数\n",
    "pca = PCA(n_components=2)\n",
    "\n",
    "# 对自变量矩阵X进行PCA降维处理\n",
    "X_pca = pca.fit_transform(X)\n",
    "\n",
    "# 查看降维后的结果\n",
    "print(\"PCA transformed variables:\\n\", X_pca)"
   ]
  },
  {
   "cell_type": "code",
   "execution_count": 31,
   "id": "88bbfd23",
   "metadata": {},
   "outputs": [],
   "source": [
    "from sklearn.linear_model import LinearRegression\n",
    "from sklearn.model_selection import train_test_split\n",
    "\n",
    "# 将自变量矩阵X_pca和目标变量y划分为训练集0.3和测试集0.7\n",
    "X_train, X_test, y_train, y_test = train_test_split(X_pca, y, test_size=0.3, random_state=42)\n",
    "\n",
    "# 实例化线性回归模型\n",
    "model = LinearRegression()\n",
    "\n",
    "# 训练模型并进行预测\n",
    "model.fit(X_train, y_train)\n",
    "y_pred = model.predict(X_test)\n",
    "\n",
    "# 评估模型性能\n",
    "score = model.score(X_test, y_test) # R^2得分"
   ]
  },
  {
   "cell_type": "code",
   "execution_count": 32,
   "id": "cf9f3300",
   "metadata": {},
   "outputs": [
    {
     "data": {
      "text/plain": [
       "0.21154026731850972"
      ]
     },
     "execution_count": 32,
     "metadata": {},
     "output_type": "execute_result"
    }
   ],
   "source": [
    "score"
   ]
  },
  {
   "cell_type": "code",
   "execution_count": 33,
   "id": "4c689e0a",
   "metadata": {},
   "outputs": [],
   "source": [
    "#拟合的还是不好"
   ]
  },
  {
   "cell_type": "code",
   "execution_count": 34,
   "id": "e7bafe6a",
   "metadata": {},
   "outputs": [],
   "source": [
    "#Logistic模型预测？"
   ]
  },
  {
   "cell_type": "code",
   "execution_count": null,
   "id": "aa8f85f5",
   "metadata": {},
   "outputs": [],
   "source": []
  },
  {
   "cell_type": "code",
   "execution_count": null,
   "id": "f1780e75",
   "metadata": {},
   "outputs": [],
   "source": []
  },
  {
   "cell_type": "code",
   "execution_count": null,
   "id": "9a8580aa",
   "metadata": {},
   "outputs": [],
   "source": []
  },
  {
   "cell_type": "code",
   "execution_count": null,
   "id": "4b91cd25",
   "metadata": {},
   "outputs": [],
   "source": []
  },
  {
   "cell_type": "code",
   "execution_count": null,
   "id": "e501a8bf",
   "metadata": {},
   "outputs": [],
   "source": []
  },
  {
   "cell_type": "code",
   "execution_count": null,
   "id": "cdd65e0c",
   "metadata": {},
   "outputs": [],
   "source": []
  },
  {
   "cell_type": "code",
   "execution_count": null,
   "id": "72aabba1",
   "metadata": {},
   "outputs": [],
   "source": []
  },
  {
   "cell_type": "code",
   "execution_count": null,
   "id": "475d092c",
   "metadata": {},
   "outputs": [],
   "source": []
  },
  {
   "cell_type": "code",
   "execution_count": null,
   "id": "faeabf0a",
   "metadata": {},
   "outputs": [],
   "source": []
  },
  {
   "cell_type": "code",
   "execution_count": null,
   "id": "c79711b5",
   "metadata": {},
   "outputs": [],
   "source": []
  },
  {
   "cell_type": "code",
   "execution_count": null,
   "id": "4556d781",
   "metadata": {},
   "outputs": [],
   "source": []
  },
  {
   "cell_type": "code",
   "execution_count": null,
   "id": "adcaad11",
   "metadata": {},
   "outputs": [],
   "source": []
  },
  {
   "cell_type": "code",
   "execution_count": null,
   "id": "c061ddf1",
   "metadata": {},
   "outputs": [],
   "source": []
  },
  {
   "cell_type": "code",
   "execution_count": null,
   "id": "a5270e39",
   "metadata": {},
   "outputs": [],
   "source": []
  },
  {
   "cell_type": "code",
   "execution_count": null,
   "id": "df41c703",
   "metadata": {},
   "outputs": [],
   "source": []
  },
  {
   "cell_type": "code",
   "execution_count": null,
   "id": "74f48783",
   "metadata": {},
   "outputs": [],
   "source": []
  }
 ],
 "metadata": {
  "kernelspec": {
   "display_name": "Python 3 (ipykernel)",
   "language": "python",
   "name": "python3"
  },
  "language_info": {
   "codemirror_mode": {
    "name": "ipython",
    "version": 3
   },
   "file_extension": ".py",
   "mimetype": "text/x-python",
   "name": "python",
   "nbconvert_exporter": "python",
   "pygments_lexer": "ipython3",
   "version": "3.10.9"
  }
 },
 "nbformat": 4,
 "nbformat_minor": 5
}
